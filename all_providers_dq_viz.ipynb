{
 "cells": [
  {
   "cell_type": "code",
   "execution_count": 1,
   "metadata": {},
   "outputs": [],
   "source": [
    "import pandas as pd\n",
    "import warnings\n",
    "warnings.filterwarnings('ignore')\n",
    "\n"
   ]
  },
  {
   "cell_type": "code",
   "execution_count": 2,
   "metadata": {},
   "outputs": [],
   "source": [
    "week1=pd.read_excel(\"010224_ALL_VAX.xlsx\")\n",
    "week2=pd.read_excel(\"010924_ALL_VAX.xlsx\")\n",
    "week3=pd.read_excel(\"011624_ALL_VAX.xlsx\")\n",
    "week4=pd.read_excel(\"012224_ALL_VAX.xlsx\")\n",
    "week5=pd.read_excel(\"012924_ALL_VAX.xlsx\")\n",
    "week6=pd.read_excel(\"020524_ALL_VAX.xlsx\")\n",
    "week7=pd.read_excel(\"021224_ALL_VAX.xlsx\")\n",
    "week8=pd.read_excel(\"022024_ALL_VAX.xlsx\")\n",
    "week9=pd.read_excel(\"022624_ALL_VAX.xlsx\")\n",
    "week10=pd.read_excel(\"030424_ALL_VAX.xlsx\")\n",
    "week11=pd.read_excel(\"031124_ALL_VAX.xlsx\")\n",
    "week12=pd.read_excel(\"031824_ALL_VAX.xlsx\")\n",
    "week13=pd.read_excel(\"032524_ALL_VAX.xlsx\")\n",
    "week14=pd.read_excel(\"040124_ALL_VAX.xlsx\")\n",
    "week15=pd.read_excel(\"040824_ALL_VAX.xlsx\")\n",
    "week16=pd.read_excel(\"041524_ALL_VAX.xlsx\")\n",
    "week17=pd.read_excel(\"042224_ALL_VAX.xlsx\")\n",
    "week18=pd.read_excel(\"042924_ALL_VAX.xlsx\")\n",
    "week19=pd.read_excel(\"ALL_VAX_2024-05-08.xlsx\")\n",
    "week20=pd.read_excel(\"ALL_VAX_2024-05-13.xlsx\")\n",
    "week21=pd.read_excel(\"ALL_VAX_2024-05-20.xlsx\")\n",
    "week22=pd.read_excel(\"ALL_VAX_2024-05-27.xlsx\")"
   ]
  },
  {
   "cell_type": "code",
   "execution_count": 3,
   "metadata": {},
   "outputs": [],
   "source": [
    "weeks=[week1,week2,week3,week4,week5,week6,week7,week8,week9,week10,week11,week12,week13,week14,week15,week16,week17,week18,week19,week20,week21,week22]\n",
    "\n",
    "for week in weeks:\n",
    "        week.fillna(0,inplace=True)"
   ]
  },
  {
   "cell_type": "code",
   "execution_count": 4,
   "metadata": {},
   "outputs": [],
   "source": [
    "week_dates=['01-02-24','01-09-24','01-16-24','01-22-24','01-29-24','02-05-24','02-12-24','02-20-24','02-26-24','03-04-24','03-11-24','03-18-24','03-25-24','04-01-24','04-08-24','04-15-24','04-22-24',\n",
    "'04-29-24','05-06-24','05-13-24','05-20-24','05-27-24']\n",
    "\n",
    "for i, (week,date) in enumerate(zip(weeks,week_dates), start=1):\n",
    "    new_week_name = f\"new_week{i}\"\n",
    "    globals()[new_week_name] = week[['PROVIDER_NAME', 'IMM_DEDUP_QUEUE_COUNT','PATIENT_DEDUP_QUEUE_COUNT','BABY_IN_NAMES','BABY_IN_NAMES_ROLLING_6_MONTHS','HL7_TOTAL_COUNT_8_DAYS']].copy()\n",
    "    globals()[new_week_name]['Week']= date\n",
    "    globals()[new_week_name] = globals()[new_week_name].reset_index(drop=True)\n",
    "\n",
    "new_weeks=[new_week1,new_week2,new_week3,new_week4,new_week5,new_week6,new_week7,new_week8,new_week9,new_week10,new_week11,new_week12,new_week13,new_week14,new_week15,new_week16,new_week17,new_week18,new_week19,new_week20,new_week21,new_week22]\n",
    "all_providers_pdqc=pd.concat(new_weeks,ignore_index=True)"
   ]
  },
  {
   "cell_type": "code",
   "execution_count": 5,
   "metadata": {},
   "outputs": [],
   "source": [
    "all_providers_pdqc.to_excel(\"All_providers_patient_dedep_052724.xlsx\")"
   ]
  }
 ],
 "metadata": {
  "kernelspec": {
   "display_name": "Python 3",
   "language": "python",
   "name": "python3"
  },
  "language_info": {
   "codemirror_mode": {
    "name": "ipython",
    "version": 3
   },
   "file_extension": ".py",
   "mimetype": "text/x-python",
   "name": "python",
   "nbconvert_exporter": "python",
   "pygments_lexer": "ipython3",
   "version": "3.11.4"
  }
 },
 "nbformat": 4,
 "nbformat_minor": 2
}
